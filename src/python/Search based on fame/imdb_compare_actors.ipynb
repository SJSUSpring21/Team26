{
 "cells": [
  {
   "cell_type": "code",
   "execution_count": 75,
   "metadata": {},
   "outputs": [],
   "source": [
    "import pandas as pd"
   ]
  },
  {
   "cell_type": "code",
   "execution_count": 76,
   "metadata": {},
   "outputs": [],
   "source": [
    "df_principals=pd.read_csv(\"title.principals.csv\")"
   ]
  },
  {
   "cell_type": "code",
   "execution_count": 77,
   "metadata": {},
   "outputs": [],
   "source": [
    "cast = df_principals[df_principals['category'].isin(['actor', 'actress'])]\n",
    "crew = df_principals[~df_principals['category'].isin(['actor', 'actress'])]\n",
    "ordered_cast = pd.DataFrame(cast.groupby(by='tconst').apply(lambda x: [x for x in x['nconst']]))\n",
    "ordered_cast = ordered_cast.reset_index().rename(columns={0: 'cast'})\n"
   ]
  },
  {
   "cell_type": "code",
   "execution_count": 78,
   "metadata": {},
   "outputs": [],
   "source": [
    "\n",
    "ordered_crew = pd.DataFrame(crew.groupby(by='tconst').apply(lambda x: [x for x in x['nconst']]))\n",
    "ordered_crew = ordered_crew.reset_index().rename(columns={0: 'crew'})"
   ]
  },
  {
   "cell_type": "code",
   "execution_count": 82,
   "metadata": {},
   "outputs": [],
   "source": [
    "#movies_ratings_df= movies_ratings_df.merge(df_ratings, on=\"tconst\", how=\"inner\")"
   ]
  },
  {
   "cell_type": "code",
   "execution_count": 83,
   "metadata": {},
   "outputs": [],
   "source": [
    "#movies_ratings_df"
   ]
  },
  {
   "cell_type": "code",
   "execution_count": 84,
   "metadata": {},
   "outputs": [],
   "source": [
    "# If it went right, we should have no duplicated movies (tconst)\n",
    "#movies_ratings_df.duplicated('tconst').any()"
   ]
  },
  {
   "cell_type": "code",
   "execution_count": 85,
   "metadata": {},
   "outputs": [],
   "source": [
    "# dropping ALL duplicte values\n",
    "#movies_ratings_df.drop_duplicates(subset =\"tconst\",\n",
    "#                     keep = False, inplace = True)"
   ]
  },
  {
   "cell_type": "code",
   "execution_count": 86,
   "metadata": {},
   "outputs": [],
   "source": [
    "#movies_ratings_df[movies_ratings_df['tconst']=='tt0088763']"
   ]
  },
  {
   "cell_type": "code",
   "execution_count": 87,
   "metadata": {},
   "outputs": [],
   "source": [
    "#movies_ratings_df['cast'].fillna('Unknown', inplace=True)\n",
    "#movies_ratings_df['crew'].fillna('Unknown', inplace=True)\n"
   ]
  },
  {
   "cell_type": "code",
   "execution_count": 88,
   "metadata": {},
   "outputs": [
    {
     "data": {
      "text/plain": [
       "0               [nm1588970, nm0005690, nm0374658]\n",
       "1                          [nm0721526, nm1335271]\n",
       "2    [nm0721526, nm1770680, nm1335271, nm5442200]\n",
       "Name: 0, dtype: object"
      ]
     },
     "execution_count": 88,
     "metadata": {},
     "output_type": "execute_result"
    }
   ],
   "source": [
    "to_wtv = pd.DataFrame(df_principals.groupby(by='tconst').apply(lambda x: [x for x in x['nconst']])).reset_index().iloc[:, 1]\n",
    "to_wtv.head(3)"
   ]
  },
  {
   "cell_type": "code",
   "execution_count": 89,
   "metadata": {},
   "outputs": [
    {
     "data": {
      "text/plain": [
       "(7429180, 10485750)"
      ]
     },
     "execution_count": 89,
     "metadata": {},
     "output_type": "execute_result"
    }
   ],
   "source": [
    "from gensim.models import Word2Vec\n",
    "import gensim\n",
    "wtv = Word2Vec(window=10, min_count=5)\n",
    "wtv.build_vocab(to_wtv)\n",
    "wtv.train(to_wtv, total_words=wtv.corpus_total_words, epochs=10)\n"
   ]
  },
  {
   "cell_type": "code",
   "execution_count": 90,
   "metadata": {},
   "outputs": [],
   "source": [
    "from IPython.display import HTML, display\n",
    "from bs4 import BeautifulSoup\n",
    "import requests\n",
    "\n",
    "def get_name(id):\n",
    "    response = requests.get(f'https://www.imdb.com/name/{id}/')\n",
    "    soup = BeautifulSoup(response.content)\n",
    "    return soup.select('.header .itemprop')[0].text\n",
    "\n",
    "def get_image(id):\n",
    "    response = requests.get(f'https://www.imdb.com/name/{id}/')\n",
    "    soup = BeautifulSoup(response.content)\n",
    "    candidates = soup.select('#name-poster')\n",
    "    return candidates[0].attrs['src'] if candidates else 'https://m.media-amazon.com/images/G/01/imdb/images/nopicture/medium/name-2135195744._CB466677935_.png'\n",
    "\n",
    "def render_person(id):\n",
    "    name = get_name(id)\n",
    "    picture = get_image(id)\n",
    "    return f\"\"\"\n",
    "    <div style=\"width: 150px; text-align: center\">\n",
    "        <h4 style='margin-top: -5px'>{name}</h4>\n",
    "        <div style='font-size:75%; margin-bottom: 5px'>{id}</div>\n",
    "        <a href=\"https://www.imdb.com/name/{id}\" target=\"_blank\">\n",
    "            <img style=\"width: 100px; display: block; margin-left: auto; margin-right: auto;\" src=\"{picture}\"/>\n",
    "        </a>\n",
    "    </div>\n",
    "    \"\"\"\n",
    "\n",
    "def show_similars(id, n=10):\n",
    "    if id in wtv.wv: \n",
    "        display(HTML(render_person(id)))\n",
    "    renders = []\n",
    "    for similar_id, score in wtv.wv.most_similar(id, topn=n):\n",
    "        renders.append(render_person(similar_id))\n",
    "        \n",
    "    carousel = ''.join(\n",
    "        [\n",
    "            f'<div style=\"margin-left: 10px; float: left\">{p}</div>' \n",
    "            for p in renders\n",
    "        ]\n",
    "        )\n",
    "    display(HTML(f'<div style=\"width: 1800px\">{carousel}</div>'))\n",
    "\n",
    "def show_similars_tovector(id, n=10):\n",
    "    renders = []\n",
    "    \n",
    "    for similar_id, score in wtv.wv.most_similar(id, topn=n):\n",
    "        renders.append(render_person(similar_id))\n",
    "        \n",
    "    carousel = ''.join(\n",
    "        [\n",
    "            f'<div style=\"margin-left: 10px; float: left\">{p}</div>' \n",
    "            for p in renders\n",
    "        ]\n",
    "    )\n",
    "    display(HTML(f'<div style=\"width: 1800px\">{carousel}</div>'))"
   ]
  },
  {
   "cell_type": "code",
   "execution_count": 91,
   "metadata": {},
   "outputs": [
    {
     "data": {
      "text/html": [
       "\n",
       "    <div style=\"width: 150px; text-align: center\">\n",
       "        <h4 style='margin-top: -5px'>Leonardo DiCaprio</h4>\n",
       "        <div style='font-size:75%; margin-bottom: 5px'>nm0000138</div>\n",
       "        <a href=\"https://www.imdb.com/name/nm0000138\" target=\"_blank\">\n",
       "            <img style=\"width: 100px; display: block; margin-left: auto; margin-right: auto;\" src=\"https://m.media-amazon.com/images/M/MV5BMjI0MTg3MzI0M15BMl5BanBnXkFtZTcwMzQyODU2Mw@@._V1_UY317_CR10,0,214,317_AL_.jpg\"/>\n",
       "        </a>\n",
       "    </div>\n",
       "    "
      ],
      "text/plain": [
       "<IPython.core.display.HTML object>"
      ]
     },
     "metadata": {},
     "output_type": "display_data"
    },
    {
     "data": {
      "text/html": [
       "<div style=\"width: 1800px\"><div style=\"margin-left: 10px; float: left\">\n",
       "    <div style=\"width: 150px; text-align: center\">\n",
       "        <h4 style='margin-top: -5px'>Danny Elfman</h4>\n",
       "        <div style='font-size:75%; margin-bottom: 5px'>nm0000384</div>\n",
       "        <a href=\"https://www.imdb.com/name/nm0000384\" target=\"_blank\">\n",
       "            <img style=\"width: 100px; display: block; margin-left: auto; margin-right: auto;\" src=\"https://m.media-amazon.com/images/M/MV5BMTU4MTU0ODA0Nl5BMl5BanBnXkFtZTgwNTk1Njk3MjE@._V1_UX214_CR0,0,214,317_AL_.jpg\"/>\n",
       "        </a>\n",
       "    </div>\n",
       "    </div><div style=\"margin-left: 10px; float: left\">\n",
       "    <div style=\"width: 150px; text-align: center\">\n",
       "        <h4 style='margin-top: -5px'>Patricia Arquette</h4>\n",
       "        <div style='font-size:75%; margin-bottom: 5px'>nm0000099</div>\n",
       "        <a href=\"https://www.imdb.com/name/nm0000099\" target=\"_blank\">\n",
       "            <img style=\"width: 100px; display: block; margin-left: auto; margin-right: auto;\" src=\"https://m.media-amazon.com/images/M/MV5BMTQ5Njg0NjkxMV5BMl5BanBnXkFtZTcwMzc0NTI5NA@@._V1_UX214_CR0,0,214,317_AL_.jpg\"/>\n",
       "        </a>\n",
       "    </div>\n",
       "    </div><div style=\"margin-left: 10px; float: left\">\n",
       "    <div style=\"width: 150px; text-align: center\">\n",
       "        <h4 style='margin-top: -5px'>Stewart Copeland</h4>\n",
       "        <div style='font-size:75%; margin-bottom: 5px'>nm0004841</div>\n",
       "        <a href=\"https://www.imdb.com/name/nm0004841\" target=\"_blank\">\n",
       "            <img style=\"width: 100px; display: block; margin-left: auto; margin-right: auto;\" src=\"https://m.media-amazon.com/images/M/MV5BMTE5MzMxNTE2NF5BMl5BanBnXkFtZTYwNTk0MDI0._V1_UX214_CR0,0,214,317_AL_.jpg\"/>\n",
       "        </a>\n",
       "    </div>\n",
       "    </div><div style=\"margin-left: 10px; float: left\">\n",
       "    <div style=\"width: 150px; text-align: center\">\n",
       "        <h4 style='margin-top: -5px'>Matt Dillon</h4>\n",
       "        <div style='font-size:75%; margin-bottom: 5px'>nm0000369</div>\n",
       "        <a href=\"https://www.imdb.com/name/nm0000369\" target=\"_blank\">\n",
       "            <img style=\"width: 100px; display: block; margin-left: auto; margin-right: auto;\" src=\"https://m.media-amazon.com/images/M/MV5BMzk4NjI3NjQ0MF5BMl5BanBnXkFtZTgwMzE3NzI5NzE@._V1_UY317_CR10,0,214,317_AL_.jpg\"/>\n",
       "        </a>\n",
       "    </div>\n",
       "    </div><div style=\"margin-left: 10px; float: left\">\n",
       "    <div style=\"width: 150px; text-align: center\">\n",
       "        <h4 style='margin-top: -5px'>Peter Horton</h4>\n",
       "        <div style='font-size:75%; margin-bottom: 5px'>nm0005022</div>\n",
       "        <a href=\"https://www.imdb.com/name/nm0005022\" target=\"_blank\">\n",
       "            <img style=\"width: 100px; display: block; margin-left: auto; margin-right: auto;\" src=\"https://m.media-amazon.com/images/M/MV5BNDcxZGMxMmMtMzA2Yy00MzZlLWI2MDktZmJjOGRiZDc3ZDg2XkEyXkFqcGdeQXVyNjIyMTk2NTc@._V1_UX214_CR0,0,214,317_AL_.jpg\"/>\n",
       "        </a>\n",
       "    </div>\n",
       "    </div><div style=\"margin-left: 10px; float: left\">\n",
       "    <div style=\"width: 150px; text-align: center\">\n",
       "        <h4 style='margin-top: -5px'>David Puttnam</h4>\n",
       "        <div style='font-size:75%; margin-bottom: 5px'>nm0701298</div>\n",
       "        <a href=\"https://www.imdb.com/name/nm0701298\" target=\"_blank\">\n",
       "            <img style=\"width: 100px; display: block; margin-left: auto; margin-right: auto;\" src=\"https://m.media-amazon.com/images/M/MV5BYWRjNTdhODktZWIyZi00Yjk1LThmNDAtYWE0MTUxNjBmYTljXkEyXkFqcGdeQXVyMTc4MzI2NQ@@._V1_UY317_CR22,0,214,317_AL_.jpg\"/>\n",
       "        </a>\n",
       "    </div>\n",
       "    </div><div style=\"margin-left: 10px; float: left\">\n",
       "    <div style=\"width: 150px; text-align: center\">\n",
       "        <h4 style='margin-top: -5px'>Jacques Bonnaffé</h4>\n",
       "        <div style='font-size:75%; margin-bottom: 5px'>nm0094782</div>\n",
       "        <a href=\"https://www.imdb.com/name/nm0094782\" target=\"_blank\">\n",
       "            <img style=\"width: 100px; display: block; margin-left: auto; margin-right: auto;\" src=\"https://m.media-amazon.com/images/M/MV5BNGJkMzJiNDYtODg0OS00ZWE5LWJjMTgtNzRlNTc1ZjRiMTY3XkEyXkFqcGdeQXVyMjUyNDk2ODc@._V1_UY317_CR170,0,214,317_AL_.jpg\"/>\n",
       "        </a>\n",
       "    </div>\n",
       "    </div><div style=\"margin-left: 10px; float: left\">\n",
       "    <div style=\"width: 150px; text-align: center\">\n",
       "        <h4 style='margin-top: -5px'>Elizabeth Hurley</h4>\n",
       "        <div style='font-size:75%; margin-bottom: 5px'>nm0000167</div>\n",
       "        <a href=\"https://www.imdb.com/name/nm0000167\" target=\"_blank\">\n",
       "            <img style=\"width: 100px; display: block; margin-left: auto; margin-right: auto;\" src=\"https://m.media-amazon.com/images/M/MV5BMTI2NTEyMDA2N15BMl5BanBnXkFtZTYwNTY0OTkz._V1_UY317_CR8,0,214,317_AL_.jpg\"/>\n",
       "        </a>\n",
       "    </div>\n",
       "    </div><div style=\"margin-left: 10px; float: left\">\n",
       "    <div style=\"width: 150px; text-align: center\">\n",
       "        <h4 style='margin-top: -5px'>Denzel Washington</h4>\n",
       "        <div style='font-size:75%; margin-bottom: 5px'>nm0000243</div>\n",
       "        <a href=\"https://www.imdb.com/name/nm0000243\" target=\"_blank\">\n",
       "            <img style=\"width: 100px; display: block; margin-left: auto; margin-right: auto;\" src=\"https://m.media-amazon.com/images/M/MV5BMjE5NDU2Mzc3MV5BMl5BanBnXkFtZTcwNjAwNTE5OQ@@._V1_UY317_CR12,0,214,317_AL_.jpg\"/>\n",
       "        </a>\n",
       "    </div>\n",
       "    </div><div style=\"margin-left: 10px; float: left\">\n",
       "    <div style=\"width: 150px; text-align: center\">\n",
       "        <h4 style='margin-top: -5px'>Emma Thompson</h4>\n",
       "        <div style='font-size:75%; margin-bottom: 5px'>nm0000668</div>\n",
       "        <a href=\"https://www.imdb.com/name/nm0000668\" target=\"_blank\">\n",
       "            <img style=\"width: 100px; display: block; margin-left: auto; margin-right: auto;\" src=\"https://m.media-amazon.com/images/M/MV5BMTMwNTAyOTg0MF5BMl5BanBnXkFtZTcwNTg0MzY1Mw@@._V1_UY317_CR10,0,214,317_AL_.jpg\"/>\n",
       "        </a>\n",
       "    </div>\n",
       "    </div></div>"
      ],
      "text/plain": [
       "<IPython.core.display.HTML object>"
      ]
     },
     "metadata": {},
     "output_type": "display_data"
    }
   ],
   "source": [
    "#Show actors who are similar in popularity\n",
    "\n",
    "show_similars('nm0000138')"
   ]
  },
  {
   "cell_type": "code",
   "execution_count": 92,
   "metadata": {},
   "outputs": [],
   "source": [
    "def who_doesnt_match(person1, person2, person3, person4):\n",
    "    \n",
    "    p1 = str(person1); p2=str(person2); p3=str(person3); p4=str(person4); \n",
    "    result = wtv.wv.doesnt_match([p1, p2, p3, p4])\n",
    "    \n",
    "    if result in wtv.wv: \n",
    "        display(HTML(render_person(result)))"
   ]
  },
  {
   "cell_type": "code",
   "execution_count": 93,
   "metadata": {},
   "outputs": [],
   "source": [
    "import random\n",
    "angelina_jolie= 'nm0001401'\n",
    "sean_penn = 'nm0000576'\n",
    "ryan_gosling = 'nm0331516'\n",
    "random1 = random.sample(list(df_principals.nconst.unique()), 1)[0]\n",
    "random2 = random.sample(list(df_principals.nconst.unique()), 1)[0]\n",
    "random3 = random.sample(list(df_principals.nconst.unique()), 1)[0]"
   ]
  },
  {
   "cell_type": "code",
   "execution_count": 94,
   "metadata": {},
   "outputs": [
    {
     "name": "stdout",
     "output_type": "stream",
     "text": [
      "nm1726906 nm0216412 nm2251683\n"
     ]
    }
   ],
   "source": [
    "print(random1, random2, random3)"
   ]
  },
  {
   "cell_type": "code",
   "execution_count": 95,
   "metadata": {},
   "outputs": [],
   "source": [
    "paul_newman = 'nm0000056'\n",
    "joseph_gordon_levitt = 'nm0330687'\n",
    "jennifer_lawrence = 'nm2225369'\n",
    "rooney_mara = 'nm1913734'"
   ]
  },
  {
   "cell_type": "code",
   "execution_count": 73,
   "metadata": {},
   "outputs": [
    {
     "data": {
      "text/html": [
       "\n",
       "    <div style=\"width: 150px; text-align: center\">\n",
       "        <h4 style='margin-top: -5px'>Joseph Gordon-Levitt</h4>\n",
       "        <div style='font-size:75%; margin-bottom: 5px'>nm0330687</div>\n",
       "        <a href=\"https://www.imdb.com/name/nm0330687\" target=\"_blank\">\n",
       "            <img style=\"width: 100px; display: block; margin-left: auto; margin-right: auto;\" src=\"https://m.media-amazon.com/images/M/MV5BMTY3NTk0NDI3Ml5BMl5BanBnXkFtZTgwNDA3NjY0MjE@._V1_UY317_CR3,0,214,317_AL_.jpg\"/>\n",
       "        </a>\n",
       "    </div>\n",
       "    "
      ],
      "text/plain": [
       "<IPython.core.display.HTML object>"
      ]
     },
     "metadata": {},
     "output_type": "display_data"
    }
   ],
   "source": [
    "#Show actors who are not equally famous\n",
    "who_doesnt_match(paul_newman, joseph_gordon_levitt, jennifer_lawrence, rooney_mara)"
   ]
  },
  {
   "cell_type": "code",
   "execution_count": null,
   "metadata": {},
   "outputs": [],
   "source": []
  }
 ],
 "metadata": {
  "kernelspec": {
   "display_name": "Python 3",
   "language": "python",
   "name": "python3"
  },
  "language_info": {
   "codemirror_mode": {
    "name": "ipython",
    "version": 3
   },
   "file_extension": ".py",
   "mimetype": "text/x-python",
   "name": "python",
   "nbconvert_exporter": "python",
   "pygments_lexer": "ipython3",
   "version": "3.8.3"
  }
 },
 "nbformat": 4,
 "nbformat_minor": 4
}
